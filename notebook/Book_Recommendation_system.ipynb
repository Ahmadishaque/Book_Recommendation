{
  "nbformat": 4,
  "nbformat_minor": 0,
  "metadata": {
    "colab": {
      "provenance": []
    },
    "kernelspec": {
      "name": "python3",
      "display_name": "Python 3"
    },
    "language_info": {
      "name": "python"
    }
  },
  "cells": [
    {
      "cell_type": "code",
      "execution_count": null,
      "metadata": {
        "id": "nf_1yidLAl5r"
      },
      "outputs": [],
      "source": [
        "import pandas as pd\n",
        "import numpy as np\n",
        "import warnings\n",
        "warnings.filterwarnings(\"ignore\")"
      ]
    },
    {
      "cell_type": "code",
      "source": [
        "ratings = pd.read_csv('Ratings.csv', sep=';')\n"
      ],
      "metadata": {
        "id": "VdY6uuFTAoD1"
      },
      "execution_count": null,
      "outputs": []
    },
    {
      "cell_type": "code",
      "source": [
        "from sklearn.datasets import dump_svmlight_file\n",
        "from scipy.sparse import csr_matrix\n",
        "user_map = {id: idx+1 for idx, id in enumerate(ratings['User-ID'].unique())}\n",
        "book_map = {id: idx+1 for idx, id in enumerate(ratings['ISBN'].unique())}\n",
        "\n",
        "user_indx = ratings['User-ID'].map(user_map)\n",
        "book_indx = ratings['ISBN'].map(book_map)\n",
        "\n",
        "sparse_matrix = csr_matrix((ratings['Rating'], (user_indx, book_indx)))\n",
        "\n",
        "col1 = [0] + ratings['User-ID'].unique().tolist()\n",
        "\n",
        "with open('user_book_matrix.libsvm', 'wb') as f:\n",
        "    dump_svmlight_file(sparse_matrix, col1, f, zero_based=True)\n",
        "\n",
        "print(\"Sparse matrix saved to user_book_matrix.libsvm\")"
      ],
      "metadata": {
        "colab": {
          "base_uri": "https://localhost:8080/"
        },
        "id": "eXrLS3nDD5bn",
        "outputId": "47145970-930c-465c-cc18-cfdbdae3fc43"
      },
      "execution_count": null,
      "outputs": [
        {
          "output_type": "stream",
          "name": "stdout",
          "text": [
            "Sparse matrix saved to user_book_matrix.libsvm\n"
          ]
        }
      ]
    },
    {
      "cell_type": "code",
      "source": [
        "def drop_y_column(input_file, output_file):\n",
        "    with open(input_file, 'r') as infile, open(output_file, 'w') as outfile:\n",
        "        for line in infile:\n",
        "            parts = line.split()\n",
        "            outfile.write(\" \".join(parts[1:]) + \"\\n\")\n",
        "\n",
        "drop_y_column('user_book_matrix.libsvm','UserBookMatrix.libsvm')"
      ],
      "metadata": {
        "id": "t3UYSCKxmk7C"
      },
      "execution_count": null,
      "outputs": []
    },
    {
      "cell_type": "code",
      "source": [
        "import pandas as pd\n",
        "import numpy as np\n",
        "from sklearn.datasets import load_svmlight_file\n",
        "\n",
        "# Load the sparse user-book matrix\n",
        "data, _ = load_svmlight_file(\"UserBookMatrix.libsvm\", zero_based=True, multilabel=True)\n",
        "data = data.astype(int)\n",
        "ratings_matrix = data.toarray()  # Convert to dense matrix for processing\n",
        "\n",
        "# Load books information\n",
        "books = pd.read_csv('Books.csv', sep=';')\n",
        "\n",
        "# Reverse the mappings for users and books\n",
        "user_map_reverse = {v: k for k, v in user_map.items()}\n",
        "book_map_reverse = {v: k for k, v in book_map.items()}\n",
        "\n",
        "\n",
        "\n",
        "# Optimized cosine similarity computation for non-zero indices\n",
        "def compute_similarity_for_nonzero(user_idx):\n",
        "    target_user = ratings_matrix[user_idx - 1]  # Convert to 0-based index\n",
        "    non_zero_indices = np.nonzero(target_user)[0]  # Indices where the target user has non-zero ratings\n",
        "\n",
        "    # Subset the matrix for relevant indices\n",
        "    sub_matrix = ratings_matrix[:, non_zero_indices]\n",
        "\n",
        "    # Compute dot products for relevant indices\n",
        "    dot_products = np.dot(sub_matrix, target_user[non_zero_indices])\n",
        "\n",
        "    # Compute norms for relevant indices\n",
        "    norms = np.linalg.norm(sub_matrix, axis=1) * np.linalg.norm(target_user[non_zero_indices])\n",
        "\n",
        "    # Compute cosine similarity\n",
        "    with np.errstate(divide='ignore', invalid='ignore'):\n",
        "        similarities = dot_products / norms\n",
        "        similarities = np.nan_to_num(similarities)  # Replace NaNs with 0\n",
        "\n",
        "    return similarities\n",
        "\n",
        "# Set K\n",
        "K = 10\n",
        "\n",
        "# Output storage\n",
        "recommendations = []\n",
        "\n",
        "# Generate recommendations\n",
        "for u_idx in range(105265, ratings_matrix.shape[0] + 1):  # Iterate over 1-based user IDs\n",
        "    print(u_idx)\n",
        "    # Compute similarity for the target user\n",
        "    user_similarities = compute_similarity_for_nonzero(u_idx)\n",
        "\n",
        "    # Get top K similar users (excluding self)\n",
        "    top_k_similar_users = sorted(\n",
        "        [(i + 1, sim) for i, sim in enumerate(user_similarities) if i != u_idx - 1],\n",
        "        key=lambda x: x[1],\n",
        "        reverse=True\n",
        "    )[:K]\n",
        "\n",
        "    # Build BK\n",
        "    BK = set()\n",
        "    for sim_user_idx, _ in top_k_similar_users:\n",
        "        BK.update(np.where(ratings_matrix[sim_user_idx - 1] > 0)[0])  # Adjust for 0-based indexing\n",
        "\n",
        "    # Calculate weighted average for books in BK\n",
        "    estimated_ratings = {}\n",
        "    for book_idx in BK:\n",
        "        if ratings_matrix[u_idx - 1, book_idx] == 0:  # Only consider unread books\n",
        "            numerator = 0\n",
        "            denominator = 0\n",
        "            for sim_user_idx, sim_score in top_k_similar_users:\n",
        "                numerator += ratings_matrix[sim_user_idx - 1, book_idx] * sim_score  # Adjust index\n",
        "                denominator += sim_score\n",
        "            if denominator > 0:\n",
        "                estimated_ratings[book_idx] = numerator / denominator\n",
        "\n",
        "    # Sort books by estimated ratings and pick top 5\n",
        "    top_books = sorted(estimated_ratings.items(), key=lambda x: x[1], reverse=True)[:5]\n",
        "    for book_idx, score in top_books:\n",
        "        book_isbn = book_map_reverse.get(book_idx + 1, None)  # Get ISBN, handle missing mapping\n",
        "        if book_isbn is None:\n",
        "            continue  # Skip if mapping is not found\n",
        "        book_title_row = books.loc[books['ISBN'] == book_isbn, 'Title']\n",
        "        if book_title_row.empty:\n",
        "            continue  # Skip if book is not found in the books DataFrame\n",
        "        book_title = book_title_row.values[0]\n",
        "        recommendations.append({\n",
        "            \"User_ID\": user_map_reverse[u_idx],\n",
        "            \"Book_ID\": book_isbn,\n",
        "            \"Book_Title\": book_title,\n",
        "            \"Recommendation_Score\": score\n",
        "        })\n",
        "\n",
        "# Write recommendations to CSV\n",
        "recommendations_df = pd.DataFrame(recommendations)\n",
        "recommendations_df.to_csv(\"Book_Recommendations.csv\", index=False)\n",
        "\n",
        "print(\"Recommendations have been saved to 'Book_Recommendations.csv'\")\n"
      ],
      "metadata": {
        "colab": {
          "base_uri": "https://localhost:8080/"
        },
        "id": "YMsDRRR1c7aJ",
        "outputId": "6d099363-f64e-4e18-b855-aee6a7ecde7c"
      },
      "execution_count": null,
      "outputs": [
        {
          "output_type": "stream",
          "name": "stdout",
          "text": [
            "105265\n",
            "105266\n",
            "105267\n",
            "105268\n",
            "105269\n",
            "105270\n",
            "105271\n",
            "105272\n",
            "105273\n",
            "105274\n",
            "105275\n",
            "105276\n",
            "105277\n",
            "105278\n",
            "105279\n",
            "105280\n",
            "105281\n",
            "105282\n",
            "105283\n",
            "Recommendations have been saved to 'Book_Recommendations.csv'\n"
          ]
        }
      ]
    }
  ]
}